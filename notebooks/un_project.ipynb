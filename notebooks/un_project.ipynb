{
 "cells": [
  {
   "cell_type": "code",
   "execution_count": null,
   "id": "29dffd29",
   "metadata": {},
   "outputs": [],
   "source": [
    "import pandas as pd\n",
    "import numpy as np\n",
    "import matplotlib.pyplot as plt\n",
    "import seaborn as sns"
   ]
  },
  {
   "cell_type": "code",
   "execution_count": null,
   "id": "529c40cc",
   "metadata": {},
   "outputs": [],
   "source": [
    "%matplotlib inline"
   ]
  },
  {
   "cell_type": "code",
   "execution_count": null,
   "id": "ec1f89cd",
   "metadata": {},
   "outputs": [],
   "source": [
    "gdp_df = pd.read_csv('..\\data\\gdp_percapita.csv')"
   ]
  },
  {
   "cell_type": "code",
   "execution_count": null,
   "id": "626237c8",
   "metadata": {},
   "outputs": [],
   "source": [
    "gdp_df.head(6)"
   ]
  },
  {
   "cell_type": "code",
   "execution_count": null,
   "id": "941db757",
   "metadata": {},
   "outputs": [],
   "source": [
    "internet_df = pd.read_csv('../data/internet_use.csv', nrows = 4495)"
   ]
  },
  {
   "cell_type": "code",
   "execution_count": null,
   "id": "f454a539",
   "metadata": {},
   "outputs": [],
   "source": [
    "internet_df.head(6)"
   ]
  },
  {
   "cell_type": "markdown",
   "id": "f4824bea",
   "metadata": {},
   "source": [
    "Question 98 - Look at the shape of each DataFrame - how many rows? How many columns?"
   ]
  },
  {
   "cell_type": "code",
   "execution_count": null,
   "id": "88bd1a8a",
   "metadata": {},
   "outputs": [],
   "source": [
    "gdp_df.shape"
   ]
  },
  {
   "cell_type": "code",
   "execution_count": null,
   "id": "46c5458d",
   "metadata": {},
   "outputs": [],
   "source": [
    "internet_df.shape"
   ]
  },
  {
   "cell_type": "markdown",
   "id": "fc670bc6",
   "metadata": {},
   "source": [
    "Answer: In the GDP df, there are 7,176 rows and 4 columns.<br>\n",
    "In the Internet df, there are 4,495 rows and 4 columns."
   ]
  },
  {
   "cell_type": "markdown",
   "id": "dbcae22e",
   "metadata": {},
   "source": [
    "Question 6 - Take a look at the datatypes for the columns in each DataFrame."
   ]
  },
  {
   "cell_type": "code",
   "execution_count": null,
   "id": "2e7b602e",
   "metadata": {},
   "outputs": [],
   "source": [
    "gdp_df.info()"
   ]
  },
  {
   "cell_type": "code",
   "execution_count": null,
   "id": "ed3b34a1",
   "metadata": {},
   "outputs": [],
   "source": [
    "internet_df.info()"
   ]
  },
  {
   "cell_type": "markdown",
   "id": "53586193",
   "metadata": {},
   "source": [
    "Question 99 - Take a look at the last 10 rows of each DataFrame in turn."
   ]
  },
  {
   "cell_type": "code",
   "execution_count": null,
   "id": "1e27453e",
   "metadata": {},
   "outputs": [],
   "source": [
    "gdp_df.tail(10)"
   ]
  },
  {
   "cell_type": "code",
   "execution_count": null,
   "id": "e24a1153",
   "metadata": {},
   "outputs": [],
   "source": [
    "internet_df.tail(10)"
   ]
  },
  {
   "cell_type": "markdown",
   "id": "dd417512",
   "metadata": {},
   "source": [
    "Question 7 - Drop the `value footnotes` column from both DataFrames. Check that this worked as expected."
   ]
  },
  {
   "cell_type": "code",
   "execution_count": null,
   "id": "d7ffd80e",
   "metadata": {},
   "outputs": [],
   "source": [
    "gdp_df = gdp_df.drop(columns = ['Value Footnotes'])\n",
    "gdp_df"
   ]
  },
  {
   "cell_type": "code",
   "execution_count": null,
   "id": "7820c03d",
   "metadata": {},
   "outputs": [],
   "source": [
    "internet_df = internet_df.drop(columns = ['Value Footnotes'])\n",
    "internet_df.head()"
   ]
  },
  {
   "cell_type": "markdown",
   "id": "00303007",
   "metadata": {},
   "source": [
    "Question 8 - Change the columns for the GDP Per Capita DataFrame to ‘Country’, ‘Year’, and ‘GDP_Per_Capita’."
   ]
  },
  {
   "cell_type": "code",
   "execution_count": null,
   "id": "2429ef46",
   "metadata": {},
   "outputs": [],
   "source": [
    "gdp_df = gdp_df.rename(columns = {'Country or Area':'Country', 'Value':'GDP_Per_Capita'})\n",
    "gdp_df.head()"
   ]
  },
  {
   "cell_type": "markdown",
   "id": "803aff31",
   "metadata": {},
   "source": [
    "Question 9 - Change the columns for the Internet Users DataFrame to ‘Country’, ‘Year’, and ‘Internet_Users_Pct’."
   ]
  },
  {
   "cell_type": "code",
   "execution_count": null,
   "id": "3784e9a5",
   "metadata": {},
   "outputs": [],
   "source": [
    "internet_df = internet_df.rename(columns = {'Country or Area':'Country', 'Value':'Internet_Users_Pct'})\n",
    "internet_df.head()"
   ]
  },
  {
   "cell_type": "markdown",
   "id": "1c3b1b1e",
   "metadata": {},
   "source": [
    "Question 10 - Merge the two DataFrames to one. Merge **all rows** from each of the two DataFrames. Call the new DataFrame `gdp_and_internet_use`."
   ]
  },
  {
   "cell_type": "code",
   "execution_count": null,
   "id": "19ec42cf",
   "metadata": {},
   "outputs": [],
   "source": [
    "gdp_and_internet_use = pd.merge(gdp_df,internet_df, on = ['Country','Year'], how = 'outer')\n",
    "gdp_and_internet_use.head(10)"
   ]
  },
  {
   "cell_type": "markdown",
   "id": "b2b4a1ef",
   "metadata": {},
   "source": [
    "Question 11 - Look at the first five rows of your new DataFrame to confirm it merged correctly."
   ]
  },
  {
   "cell_type": "code",
   "execution_count": null,
   "id": "4dcef2e8",
   "metadata": {},
   "outputs": [],
   "source": [
    "gdp_and_internet_use.head(10)"
   ]
  },
  {
   "cell_type": "markdown",
   "id": "c4513866",
   "metadata": {},
   "source": [
    "Question 12 - Look at the last five rows to make sure the data is clean and as expected."
   ]
  },
  {
   "cell_type": "code",
   "execution_count": null,
   "id": "ff4e258a",
   "metadata": {},
   "outputs": [],
   "source": [
    "gdp_and_internet_use.tail(10)"
   ]
  },
  {
   "cell_type": "code",
   "execution_count": null,
   "id": "cfeae50b",
   "metadata": {},
   "outputs": [],
   "source": [
    "## Checked Zimbabwe to make sure everything was joined\n",
    "\n",
    "gdp_and_internet_use.loc[gdp_and_internet_use['Country']=='Zimbabwe'].head(10)"
   ]
  },
  {
   "cell_type": "markdown",
   "id": "c107df56",
   "metadata": {},
   "source": [
    "Question 13 - Subset the combined DataFrame to keep only the data for 2004, 2009, and 2014. Check that this happened correctly."
   ]
  },
  {
   "cell_type": "code",
   "execution_count": null,
   "id": "e4a63895",
   "metadata": {},
   "outputs": [],
   "source": [
    "gdp_and_internet_use.loc[(gdp_and_internet_use['Year'] == 2004) | (gdp_and_internet_use['Year'] == 2009) | (gdp_and_internet_use['Year'] == 2014)]"
   ]
  },
  {
   "cell_type": "markdown",
   "id": "7866ff3a",
   "metadata": {},
   "source": [
    "Question 14 - Create three new DataFrames, one for 2004, one for 2009, and one for 2014. Give them meaningful names that aren't too long."
   ]
  },
  {
   "cell_type": "code",
   "execution_count": null,
   "id": "ca9d7ac5",
   "metadata": {},
   "outputs": [],
   "source": [
    "gdp_internet_2004 = gdp_and_internet_use.loc[gdp_and_internet_use['Year'] == 2004]\n",
    "gdp_internet_2004.head()"
   ]
  },
  {
   "cell_type": "code",
   "execution_count": null,
   "id": "0343cd4f",
   "metadata": {},
   "outputs": [],
   "source": [
    "gdp_internet_2009 = gdp_and_internet_use.loc[gdp_and_internet_use['Year'] == 2009]\n",
    "gdp_internet_2009.head()"
   ]
  },
  {
   "cell_type": "code",
   "execution_count": null,
   "id": "86c93465",
   "metadata": {},
   "outputs": [],
   "source": [
    "gdp_internet_2014 = gdp_and_internet_use.loc[gdp_and_internet_use['Year'] == 2014]\n",
    "gdp_internet_2014.head()"
   ]
  },
  {
   "cell_type": "markdown",
   "id": "8f442ee5",
   "metadata": {},
   "source": [
    "Question 15 - Which country had the highest percentage of internet users in 2014? What was the percentage?"
   ]
  },
  {
   "cell_type": "code",
   "execution_count": null,
   "id": "383072fc",
   "metadata": {},
   "outputs": [],
   "source": [
    "gdp_internet_2014.sort_values(by = 'Internet_Users_Pct', ascending = False).head()"
   ]
  },
  {
   "cell_type": "markdown",
   "id": "4952ba55",
   "metadata": {},
   "source": [
    "Answer: Iceland had the highest internet user pct with 98.16% in 2014"
   ]
  },
  {
   "cell_type": "markdown",
   "id": "db8f1cff",
   "metadata": {},
   "source": [
    "Question 16 - Which country had the lowest percentage of internet users in 2014? What was the percentage?"
   ]
  },
  {
   "cell_type": "code",
   "execution_count": null,
   "id": "3867b505",
   "metadata": {},
   "outputs": [],
   "source": [
    "gdp_internet_2014.sort_values(by = 'Internet_Users_Pct').head()"
   ]
  },
  {
   "cell_type": "markdown",
   "id": "23988cf1",
   "metadata": {},
   "source": [
    "Answer: Dem. People's Rep. 0f Korea had the lowest internet user pct in 2014 with 0%"
   ]
  },
  {
   "cell_type": "markdown",
   "id": "ef513f1b",
   "metadata": {},
   "source": [
    "Question 17 - Repeat for 2004 and 2009."
   ]
  },
  {
   "cell_type": "code",
   "execution_count": null,
   "id": "1c321f73",
   "metadata": {},
   "outputs": [],
   "source": [
    "gdp_internet_2004.sort_values(by = 'Internet_Users_Pct', ascending = False).head()"
   ]
  },
  {
   "cell_type": "code",
   "execution_count": null,
   "id": "961d334b",
   "metadata": {},
   "outputs": [],
   "source": [
    "gdp_internet_2004.sort_values(by = 'Internet_Users_Pct').head()"
   ]
  },
  {
   "cell_type": "markdown",
   "id": "d5692402",
   "metadata": {},
   "source": [
    "Answer for 2004: Sweden had the highest internet user pct with 83.89%.\n",
    "Dem. People's Rep. of Korea had the lowest with 0%"
   ]
  },
  {
   "cell_type": "code",
   "execution_count": null,
   "id": "4261adb5",
   "metadata": {},
   "outputs": [],
   "source": [
    "gdp_internet_2009.sort_values(by = 'Internet_Users_Pct', ascending = False).head()"
   ]
  },
  {
   "cell_type": "code",
   "execution_count": null,
   "id": "72f78d84",
   "metadata": {},
   "outputs": [],
   "source": [
    "gdp_internet_2009.sort_values(by = 'Internet_Users_Pct').head()"
   ]
  },
  {
   "cell_type": "markdown",
   "id": "19e23c4b",
   "metadata": {},
   "source": [
    "Answer for 2009: Iceland had the highest internet user pct with 93%. Dem. People's Rep. of Korea had the lowest with 0%"
   ]
  },
  {
   "cell_type": "markdown",
   "id": "7a384a2e",
   "metadata": {},
   "source": [
    "Question 18 - Which country had the highest gdp per capita in 2014? What was the gdp per capita?"
   ]
  },
  {
   "cell_type": "code",
   "execution_count": null,
   "id": "41a53dc6",
   "metadata": {},
   "outputs": [],
   "source": [
    "gdp_internet_2014.sort_values(by = 'GDP_Per_Capita', ascending = False).head()"
   ]
  },
  {
   "cell_type": "markdown",
   "id": "e698f8cb",
   "metadata": {},
   "source": [
    "Answer: Macao SAR, China had the highest GDP in 2014 with 155,201.74"
   ]
  },
  {
   "cell_type": "markdown",
   "id": "988e8fa9",
   "metadata": {},
   "source": [
    "Question 20 - Which country had the lowest gdp per capita in 2014? What was the gdp per capita?"
   ]
  },
  {
   "cell_type": "code",
   "execution_count": null,
   "id": "a6a1493d",
   "metadata": {},
   "outputs": [],
   "source": [
    "gdp_internet_2014.sort_values(by = 'GDP_Per_Capita').head()"
   ]
  },
  {
   "cell_type": "markdown",
   "id": "9fdcaf0b",
   "metadata": {},
   "source": [
    "Answer: Central African Republic had the lowest GDP in 2014 with 822.61"
   ]
  },
  {
   "cell_type": "markdown",
   "id": "c74398bc",
   "metadata": {},
   "source": [
    "Question 21 - Create Scatterplots"
   ]
  },
  {
   "cell_type": "markdown",
   "id": "7db9d200",
   "metadata": {},
   "source": [
    "2004 Percent Using the Internet vs GDP Per Capita "
   ]
  },
  {
   "cell_type": "code",
   "execution_count": null,
   "id": "7fa2c8ba",
   "metadata": {},
   "outputs": [],
   "source": [
    "gdp_internet_2004.plot.scatter(x = 'Internet_Users_Pct', y = 'GDP_Per_Capita')"
   ]
  },
  {
   "cell_type": "markdown",
   "id": "94e3b6eb",
   "metadata": {},
   "source": [
    "2009 Percent Using the Internet vs GDP Per Capita "
   ]
  },
  {
   "cell_type": "code",
   "execution_count": null,
   "id": "299725e5",
   "metadata": {},
   "outputs": [],
   "source": [
    "gdp_internet_2009.plot.scatter(x = 'Internet_Users_Pct', y = 'GDP_Per_Capita')"
   ]
  },
  {
   "cell_type": "markdown",
   "id": "57a3829e",
   "metadata": {},
   "source": [
    "2014 Percent Using the Internet vs GDP Per Capita "
   ]
  },
  {
   "cell_type": "code",
   "execution_count": null,
   "id": "8bacf87c",
   "metadata": {},
   "outputs": [],
   "source": [
    "gdp_internet_2014.plot.scatter(x = 'Internet_Users_Pct', y = 'GDP_Per_Capita')"
   ]
  },
  {
   "cell_type": "markdown",
   "id": "333a6063",
   "metadata": {},
   "source": [
    "Question 22 - Are there differences across years? What do the plots tell you about any relationship between these two variables? Enter your observations as a markdown cell."
   ]
  },
  {
   "cell_type": "markdown",
   "id": "62bf8544",
   "metadata": {},
   "source": [
    "Answer: Less outliers appear as the years go by. The internet has become more and more popular over the years even in countries with lower GDP's and especially in countries with larger GDP's."
   ]
  },
  {
   "cell_type": "markdown",
   "id": "d3700b0b",
   "metadata": {},
   "source": [
    "Question 23 - Look at the distribution of gdp per capita values for 2014. Is it unimodal?"
   ]
  },
  {
   "cell_type": "code",
   "execution_count": null,
   "id": "7713fd05",
   "metadata": {},
   "outputs": [],
   "source": [
    "gdp_internet_2014.plot.hist(column = 'GDP_Per_Capita', bins = 10)"
   ]
  },
  {
   "cell_type": "code",
   "execution_count": null,
   "id": "0f3f343c",
   "metadata": {},
   "outputs": [],
   "source": [
    "gdp_internet_2014['GDP_Per_Capita'].plot(kind = 'kde')"
   ]
  },
  {
   "cell_type": "markdown",
   "id": "3f9947b7",
   "metadata": {},
   "source": [
    "Answer: Yes, the GDP per capita in 2014 is unimodal"
   ]
  },
  {
   "cell_type": "markdown",
   "id": "4ba84055",
   "metadata": {},
   "source": [
    "Question 24 - Look at the distribution of Internet Use for 2014. Is it unimodal?"
   ]
  },
  {
   "cell_type": "code",
   "execution_count": null,
   "id": "102de647",
   "metadata": {},
   "outputs": [],
   "source": [
    "gdp_internet_2014.hist(column = 'Internet_Users_Pct', bins = 10)"
   ]
  },
  {
   "cell_type": "code",
   "execution_count": null,
   "id": "ba3ad505",
   "metadata": {},
   "outputs": [],
   "source": [
    "gdp_internet_2014['Internet_Users_Pct'].plot.kde()"
   ]
  },
  {
   "cell_type": "markdown",
   "id": "bf710189",
   "metadata": {},
   "source": [
    "Answer: No, the internet user pct in 2014 is not unimodal. It's bimodal."
   ]
  },
  {
   "cell_type": "markdown",
   "id": "bb0112fc",
   "metadata": {},
   "source": [
    "Question 25 - What are the top 5 countries in terms of internet use in 2014?"
   ]
  },
  {
   "cell_type": "code",
   "execution_count": null,
   "id": "83a62a14",
   "metadata": {},
   "outputs": [],
   "source": [
    "gdp_internet_2014.sort_values(by = 'Internet_Users_Pct', ascending = False).head()"
   ]
  },
  {
   "cell_type": "markdown",
   "id": "3f74f61b",
   "metadata": {},
   "source": [
    "Answer: Iceland, Bermuda, Norway, Denmark, Andorra"
   ]
  },
  {
   "cell_type": "markdown",
   "id": "add378d9",
   "metadata": {},
   "source": [
    "Question 26 - Create a DataFrame called top_5_internet **from the combined DataFrame that has all three years _for the 5 countries that had the greatest 2014 internet usage_**. You should have 15 rows. Check that this is true."
   ]
  },
  {
   "cell_type": "code",
   "execution_count": null,
   "id": "8d217023",
   "metadata": {},
   "outputs": [],
   "source": [
    "## Creating the dataframe for 2004,2009,and 2014\n",
    "\n",
    "gdp_internet_years = gdp_and_internet_use.loc[(gdp_and_internet_use['Year'] == 2004) | (gdp_and_internet_use['Year'] == 2009) | (gdp_and_internet_use['Year'] == 2014)]\n",
    "gdp_internet_years.head()"
   ]
  },
  {
   "cell_type": "code",
   "execution_count": null,
   "id": "2bc76850",
   "metadata": {},
   "outputs": [],
   "source": [
    "top_5_internet = gdp_internet_years.loc[(gdp_internet_years['Country'] == 'Iceland') |\n",
    "                                        (gdp_internet_years['Country'] == 'Bermuda') |\n",
    "                                        (gdp_internet_years['Country'] == 'Norway') |\n",
    "                                        (gdp_internet_years['Country'] == 'Denmark') |\n",
    "                                        (gdp_internet_years['Country'] == 'Andorra')].sort_values(by = 'Country')\n",
    "top_5_internet"
   ]
  },
  {
   "cell_type": "markdown",
   "id": "e02f1cea",
   "metadata": {},
   "source": [
    "Question 27 - Create a seaborn FacetGrid to show the internet usage trend across the years 2004, 2009, and 2014 for these 5 countries (those with the highest reported internet use in 2014). Which country had the greatest growth between 2004 and 2014?"
   ]
  },
  {
   "cell_type": "code",
   "execution_count": null,
   "id": "c82afcec",
   "metadata": {},
   "outputs": [],
   "source": [
    "top_5_internet_graph = sns.FacetGrid(top_5_internet, col = 'Country', hue = 'Year')\n",
    "top_5_internet_graph.map(sns.scatterplot, 'Year', 'Internet_Users_Pct').add_legend()"
   ]
  },
  {
   "cell_type": "markdown",
   "id": "3d085614",
   "metadata": {},
   "source": [
    "Answer: Andorra had the greatest growth of internet user pct between 2004 and 2014"
   ]
  },
  {
   "cell_type": "markdown",
   "id": "583bf5a0",
   "metadata": {},
   "source": [
    "Question 28 - Repeat the steps above to look at the trend for the 5 countries with the lowest 2014 internet usage. Which country has consistently had the least internet use?"
   ]
  },
  {
   "cell_type": "code",
   "execution_count": null,
   "id": "ab01a5ae",
   "metadata": {},
   "outputs": [],
   "source": [
    "gdp_internet_2014.sort_values(by = 'Internet_Users_Pct').head()"
   ]
  },
  {
   "cell_type": "code",
   "execution_count": null,
   "id": "6a1ffe99",
   "metadata": {},
   "outputs": [],
   "source": [
    "bottom_5_internet = gdp_internet_years.loc[(gdp_internet_years['Country'] == \"Dem. People's Rep. of Korea\") |\n",
    "                                        (gdp_internet_years['Country'] == 'Eritrea') |\n",
    "                                        (gdp_internet_years['Country'] == 'Timor-Leste') |\n",
    "                                        (gdp_internet_years['Country'] == 'Burundi') |\n",
    "                                        (gdp_internet_years['Country'] == 'Somalia')].sort_values(by = 'Country')\n",
    "bottom_5_internet"
   ]
  },
  {
   "cell_type": "code",
   "execution_count": null,
   "id": "82bc2d9b",
   "metadata": {},
   "outputs": [],
   "source": [
    "bottom_5_internet_graph = sns.FacetGrid(bottom_5_internet, col = 'Country', hue = 'Year')\n",
    "bottom_5_internet_graph.map(sns.scatterplot, 'Year', 'Internet_Users_Pct').add_legend()"
   ]
  },
  {
   "cell_type": "markdown",
   "id": "663fbc94",
   "metadata": {},
   "source": [
    "Answer: Dem. People's Rep. of Korea had 0% in each year, and two countries (Eritrea and Timor-Leste) are missing data from 2004. Each country consistently increases in their internet user pct though."
   ]
  },
  {
   "cell_type": "markdown",
   "id": "7f029c46",
   "metadata": {},
   "source": [
    "Question 29 - Find the top 5 countries for 2014 in terms of GDP per capita; create a DataFrame to look at 10-year trends (use 2004, 2009, 2014 to look at the 10-year trend) in gdp per capita for the 5 countries with the highest 2014 GDP per capita. Use a seaborn facet grid for this."
   ]
  },
  {
   "cell_type": "code",
   "execution_count": null,
   "id": "43fa5f06",
   "metadata": {},
   "outputs": [],
   "source": [
    "gdp_internet_2014.sort_values(by = 'GDP_Per_Capita', ascending = False).head()"
   ]
  },
  {
   "cell_type": "code",
   "execution_count": null,
   "id": "ca1cae8e",
   "metadata": {},
   "outputs": [],
   "source": [
    "top_5_gdp = gdp_internet_years.loc[(gdp_internet_years['Country'] == 'Macao SAR, China') |\n",
    "                       (gdp_internet_years['Country'] == 'Luxembourg') |\n",
    "                       (gdp_internet_years['Country'] == 'Qatar') |\n",
    "                       (gdp_internet_years['Country'] == 'Singapore') |\n",
    "                       (gdp_internet_years['Country'] == 'Bermuda')]\n",
    "top_5_gdp"
   ]
  },
  {
   "cell_type": "code",
   "execution_count": null,
   "id": "60c25f94",
   "metadata": {},
   "outputs": [],
   "source": [
    "top_5_gdp = top_5_gdp.drop(columns = ['Internet_Users_Pct'])\n",
    "top_5_gdp"
   ]
  },
  {
   "cell_type": "code",
   "execution_count": null,
   "id": "a8ac1873",
   "metadata": {},
   "outputs": [],
   "source": [
    "top_5_gdp_graph = sns.FacetGrid(top_5_gdp, col = 'Country', hue = 'Year')\n",
    "top_5_gdp_graph.map(sns.scatterplot, 'Year', 'GDP_Per_Capita').add_legend()"
   ]
  },
  {
   "cell_type": "markdown",
   "id": "e6756e48",
   "metadata": {},
   "source": [
    "Question 96 - Repeat this one more time to look at 10-year trend for the 5 countries for 2014 with the lowest GDP per capita."
   ]
  },
  {
   "cell_type": "code",
   "execution_count": null,
   "id": "b0a96095",
   "metadata": {},
   "outputs": [],
   "source": [
    "gdp_internet_2014.sort_values(by = 'GDP_Per_Capita').head()"
   ]
  },
  {
   "cell_type": "code",
   "execution_count": null,
   "id": "e9a8da1e",
   "metadata": {},
   "outputs": [],
   "source": [
    "bottom_5_gdp = gdp_internet_years.loc[(gdp_internet_years['Country'] == 'Central African Republic') |\n",
    "                       (gdp_internet_years['Country'] == 'Burundi') |\n",
    "                       (gdp_internet_years['Country'] == 'Somalia') |\n",
    "                       (gdp_internet_years['Country'] == 'Dem. Rep. Congo') |\n",
    "                       (gdp_internet_years['Country'] == 'Niger')]\n",
    "bottom_5_gdp"
   ]
  },
  {
   "cell_type": "code",
   "execution_count": null,
   "id": "67910225",
   "metadata": {},
   "outputs": [],
   "source": [
    "bottom_5_gdp = bottom_5_gdp.drop(columns = ['Internet_Users_Pct'])\n",
    "bottom_5_gdp"
   ]
  },
  {
   "cell_type": "code",
   "execution_count": null,
   "id": "f54de33e",
   "metadata": {},
   "outputs": [],
   "source": [
    "bottom_5_gdp_graph = sns.FacetGrid(bottom_5_gdp, col = 'Country', hue = 'Year')\n",
    "bottom_5_gdp_graph.map(sns.scatterplot, 'Year', 'GDP_Per_Capita').add_legend()"
   ]
  },
  {
   "cell_type": "markdown",
   "id": "9ca0306d",
   "metadata": {},
   "source": [
    "**Question 30** <br> - Is there anything surprising or unusual in any of these plots? Searching on the internet, can you find any possible explanations for unusual findings?"
   ]
  },
  {
   "cell_type": "markdown",
   "id": "e613fd34",
   "metadata": {},
   "source": [
    "**Answer:** <br>\n",
    "top 5 Internet: Andorra had the most significant rise in internet user pct\n",
    "\n",
    "bottom 5 Internet: Dem. People's Rep. of Korea had no data. They seem to keep their data private which makes sense. In Eritrea and Timor-Leste has missing data for 2004. In both countries, access to the internet is very limited and hard to get.\n",
    "\n",
    "top 5 GDP: Bermuda has a decreasing GDP over the course of the 10 years. In 2009 and 2011, Bermuda took big hits in their GDP. China had the most significant increase.\n",
    "\n",
    "bottom 5 GDP: Central African Republic's first 5 years were great, but then plummeted in the last 5 years. Central African Republic experienced the worst year of GDP in 2013 due to a civil war. Somalia is missing 2004 and 2009 GDP data. Somalia did not have a central government starting in 1991 after the fall of their president's government. They re-established themselves in 2013."
   ]
  },
  {
   "cell_type": "code",
   "execution_count": null,
   "id": "04764d0d",
   "metadata": {},
   "outputs": [],
   "source": [
    "top_5_internet_graph = sns.FacetGrid(top_5_internet, col = 'Country', hue = 'Year')\n",
    "top_5_internet_graph.map(sns.scatterplot, 'Year', 'Internet_Users_Pct').add_legend()"
   ]
  },
  {
   "cell_type": "code",
   "execution_count": null,
   "id": "56559429",
   "metadata": {},
   "outputs": [],
   "source": [
    "bottom_5_internet_graph = sns.FacetGrid(bottom_5_internet, col = 'Country', hue = 'Year')\n",
    "bottom_5_internet_graph.map(sns.scatterplot, 'Year', 'Internet_Users_Pct').add_legend()"
   ]
  },
  {
   "cell_type": "code",
   "execution_count": null,
   "id": "0a1f4bce",
   "metadata": {},
   "outputs": [],
   "source": [
    "top_5_gdp_graph = sns.FacetGrid(top_5_gdp, col = 'Country', hue = 'Year')\n",
    "top_5_gdp_graph.map(sns.scatterplot, 'Year', 'GDP_Per_Capita').add_legend()"
   ]
  },
  {
   "cell_type": "code",
   "execution_count": null,
   "id": "9aa1ce09",
   "metadata": {},
   "outputs": [],
   "source": [
    "bottom_5_gdp_graph = sns.FacetGrid(bottom_5_gdp, col = 'Country', hue = 'Year')\n",
    "bottom_5_gdp_graph.map(sns.scatterplot, 'Year', 'GDP_Per_Capita').add_legend()"
   ]
  },
  {
   "cell_type": "markdown",
   "id": "a54f4ff3",
   "metadata": {},
   "source": [
    "# **Bonus:**"
   ]
  },
  {
   "cell_type": "markdown",
   "id": "0200c0d3",
   "metadata": {},
   "source": [
    "**Bringing in the population growth rate in 2012**"
   ]
  },
  {
   "cell_type": "code",
   "execution_count": null,
   "id": "673f4380",
   "metadata": {},
   "outputs": [],
   "source": [
    "pop_growth_2012 = pd.read_csv('../data/pop_growth_2012.csv')"
   ]
  },
  {
   "cell_type": "code",
   "execution_count": null,
   "id": "d2cd20d5",
   "metadata": {},
   "outputs": [],
   "source": [
    "pop_growth_2012"
   ]
  },
  {
   "cell_type": "code",
   "execution_count": null,
   "id": "206ceb17",
   "metadata": {},
   "outputs": [],
   "source": [
    "pop_growth_2012 = pop_growth_2012.drop(columns = ['Value Footnotes'])\n",
    "pop_growth_2012.head(3)"
   ]
  },
  {
   "cell_type": "code",
   "execution_count": null,
   "id": "08c10f70",
   "metadata": {},
   "outputs": [],
   "source": [
    "pop_growth_2012 = pop_growth_2012.rename(columns = {'Country or Area':'Country', 'Year(s)':'Year', 'Value':'Growth_Rate'})\n",
    "pop_growth_2012.head(3)"
   ]
  },
  {
   "cell_type": "code",
   "execution_count": null,
   "id": "0ce4c517",
   "metadata": {},
   "outputs": [],
   "source": [
    "pop_growth_2012.info()"
   ]
  },
  {
   "cell_type": "code",
   "execution_count": null,
   "id": "9ce499df",
   "metadata": {},
   "outputs": [],
   "source": [
    "gdp_and_internet_use.head()"
   ]
  },
  {
   "cell_type": "code",
   "execution_count": null,
   "id": "7db1aa9f",
   "metadata": {},
   "outputs": [],
   "source": [
    "gdp_and_internet_use.info()"
   ]
  },
  {
   "cell_type": "markdown",
   "id": "39c93554",
   "metadata": {},
   "source": [
    "**Merging the gdp and internet dataframe with the population growth rate**"
   ]
  },
  {
   "cell_type": "code",
   "execution_count": null,
   "id": "97223ef6",
   "metadata": {},
   "outputs": [],
   "source": [
    "info_2012 = pd.merge(gdp_and_internet_use, pop_growth_2012, how = 'inner', on = ['Country','Year'])\n",
    "info_2012"
   ]
  },
  {
   "cell_type": "code",
   "execution_count": null,
   "id": "585bbdab",
   "metadata": {},
   "outputs": [],
   "source": [
    "info_2012.sort_values(by = 'Growth_Rate', ascending = False)"
   ]
  },
  {
   "cell_type": "markdown",
   "id": "b8e3a1e8",
   "metadata": {},
   "source": [
    "**Qatar insight from table above**<br>Qatar had one of the highest GDP's in 2014.<br> Looks like their GDP is high in 2012, but why did their population growth rate decrease by 7.1% <br> From 2007-2011 there was a decreasing growth rate in Qatar from around 21% down to about 5%.<br><br>Qatar had a massive increase of population from 2004-2008. It doubled in size during that time, and then there was a steady increase of population growth after that. The increase is due to many migrant workers going to Qatar because of the rapid economic growth."
   ]
  },
  {
   "cell_type": "code",
   "execution_count": null,
   "id": "ac61c261",
   "metadata": {},
   "outputs": [],
   "source": [
    "gdp_and_internet_use.loc[gdp_and_internet_use['Country'] == 'Qatar']"
   ]
  },
  {
   "cell_type": "code",
   "execution_count": null,
   "id": "e793f452",
   "metadata": {},
   "outputs": [],
   "source": []
  }
 ],
 "metadata": {
  "kernelspec": {
   "display_name": "Python 3 (ipykernel)",
   "language": "python",
   "name": "python3"
  },
  "language_info": {
   "codemirror_mode": {
    "name": "ipython",
    "version": 3
   },
   "file_extension": ".py",
   "mimetype": "text/x-python",
   "name": "python",
   "nbconvert_exporter": "python",
   "pygments_lexer": "ipython3",
   "version": "3.9.12"
  }
 },
 "nbformat": 4,
 "nbformat_minor": 5
}
